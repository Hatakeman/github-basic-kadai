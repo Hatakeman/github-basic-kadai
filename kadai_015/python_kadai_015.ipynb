{
  "nbformat": 4,
  "nbformat_minor": 0,
  "metadata": {
    "colab": {
      "provenance": []
    },
    "kernelspec": {
      "name": "python3",
      "display_name": "Python 3"
    },
    "language_info": {
      "name": "python"
    }
  },
  "cells": [
    {
      "cell_type": "code",
      "execution_count": 7,
      "metadata": {
        "colab": {
          "base_uri": "https://localhost:8080/"
        },
        "id": "JjJuofldXRkx",
        "outputId": "67b0bb5d-d1bd-4c3d-c21a-c0664d82ea0b"
      },
      "outputs": [
        {
          "output_type": "stream",
          "name": "stdout",
          "text": [
            "名前は山田太郎です。年齢は25歳です。\n"
          ]
        }
      ],
      "source": [
        "#名前(name)と年齢(age)の属性を持つHumanクラスを作成してください。\n",
        "class Human:\n",
        "  def __init__(self, name, age):\n",
        "    #属性を定義\n",
        "    self.name = name\n",
        "    self.age = age\n",
        "  #nameとageを標準出力(print)するメソッド(printinfo)を追加してください。\n",
        "  def printinfo(self):\n",
        "    print(f\"名前は{self.name}です。年齢は{self.age}歳です。\")\n",
        "\n",
        "#インスタンス化\n",
        "human = Human(\"山田太郎\", 25)\n",
        "\n",
        "#printinfoを呼び出す\n",
        "human.printinfo()\n"
      ]
    }
  ]
}