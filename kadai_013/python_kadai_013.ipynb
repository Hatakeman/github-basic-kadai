{
  "nbformat": 4,
  "nbformat_minor": 0,
  "metadata": {
    "colab": {
      "provenance": []
    },
    "kernelspec": {
      "name": "python3",
      "display_name": "Python 3"
    },
    "language_info": {
      "name": "python"
    }
  },
  "cells": [
    {
      "cell_type": "code",
      "execution_count": null,
      "metadata": {
        "colab": {
          "base_uri": "https://localhost:8080/"
        },
        "id": "D-lvB8L0M8Xa",
        "outputId": "1c233b58-b1fb-4513-e2fe-011d047db509"
      },
      "outputs": [
        {
          "output_type": "stream",
          "name": "stdout",
          "text": [
            "5500.0円（税込み）\n"
          ]
        }
      ],
      "source": [
        "# 商品購入時の消費税計算を関数で実行する\n",
        "def including_tax(price, tax=1.1):\n",
        "    #priceに消費税（10％）を含めた金額にする\n",
        "    total = price * tax\n",
        "    # 計算結果を戻り値として返す\n",
        "    return total\n",
        "\n",
        "# 関数を呼び出し、購入金額を渡す（デフォルトの消費税率を使用）\n",
        "price = 5000  # 商品の金額\n",
        "total_price = including_tax(price)\n",
        "\n",
        "# 変数totalの値を出力する\n",
        "print(f\"{total_price}円（税込み）\")"
      ]
    }
  ]
}