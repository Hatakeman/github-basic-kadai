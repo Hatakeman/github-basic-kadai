{
  "nbformat": 4,
  "nbformat_minor": 0,
  "metadata": {
    "colab": {
      "provenance": []
    },
    "kernelspec": {
      "name": "python3",
      "display_name": "Python 3"
    },
    "language_info": {
      "name": "python"
    }
  },
  "cells": [
    {
      "cell_type": "code",
      "execution_count": 1,
      "metadata": {
        "colab": {
          "base_uri": "https://localhost:8080/"
        },
        "id": "D-lvB8L0M8Xa",
        "outputId": "ec67ef93-10e6-4c86-e8ed-5514bff9729c"
      },
      "outputs": [
        {
          "output_type": "stream",
          "name": "stdout",
          "text": [
            "商品金額: 5000円\n",
            "消費税率: 10%\n",
            "税込み金額: 5500.0円\n"
          ]
        }
      ],
      "source": [
        "# 商品購入時の消費税計算を関数で実行する\n",
        "def including_tax(price, tax):\n",
        "    \"\"\"\n",
        "    商品の金額に消費税を加えた金額を計算する関数\n",
        "    :param price: 商品の金額（整数または小数）\n",
        "    :param tax: 消費税率（例: 1.1 は 10%）\n",
        "    :return: 消費税込みの金額\n",
        "    \"\"\"\n",
        "    total = price * tax\n",
        "    return total  # 計算結果を戻り値として返す\n",
        "\n",
        "# 購入金額と消費税率を設定\n",
        "price = 5000  # 商品の金額\n",
        "tax_rate = 1.1  # 消費税率（10%）\n",
        "\n",
        "# 関数を呼び出して税込み金額を計算\n",
        "total_price = including_tax(price, tax_rate)\n",
        "\n",
        "# 税込み金額を出力\n",
        "print(f\"商品金額: {price}円\")\n",
        "print(f\"消費税率: {((tax_rate - 1) * 100):.0f}%\")\n",
        "print(f\"税込み金額: {total_price}円\")\n"
      ]
    }
  ]
}