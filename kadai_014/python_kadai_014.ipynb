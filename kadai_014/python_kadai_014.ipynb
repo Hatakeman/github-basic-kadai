{
  "nbformat": 4,
  "nbformat_minor": 0,
  "metadata": {
    "colab": {
      "provenance": []
    },
    "kernelspec": {
      "name": "python3",
      "display_name": "Python 3"
    },
    "language_info": {
      "name": "python"
    }
  },
  "cells": [
    {
      "cell_type": "code",
      "execution_count": 8,
      "metadata": {
        "colab": {
          "base_uri": "https://localhost:8080/"
        },
        "id": "vAowsvAwTUUp",
        "outputId": "bc5ec6b3-4b45-4fe8-95ee-4251544f6f9c"
      },
      "outputs": [
        {
          "output_type": "stream",
          "name": "stdout",
          "text": [
            "330.0\n"
          ]
        }
      ],
      "source": [
        "#グローバルスコープ\n",
        "price1 = 100\n",
        "price2 = 200\n",
        "tax = 1.1\n",
        "\n",
        "#ローカルスコープ\n",
        "def total():\n",
        "    return price1 + price2\n",
        "\n",
        "#グローバルスコープでローカルスコープを活用して出力\n",
        "print (total() * tax)\n",
        "\n"
      ]
    }
  ]
}