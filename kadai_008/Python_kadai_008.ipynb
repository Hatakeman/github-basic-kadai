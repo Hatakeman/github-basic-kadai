{
  "nbformat": 4,
  "nbformat_minor": 0,
  "metadata": {
    "colab": {
      "provenance": []
    },
    "kernelspec": {
      "name": "python3",
      "display_name": "Python 3"
    },
    "language_info": {
      "name": "python"
    }
  },
  "cells": [
    {
      "cell_type": "code",
      "execution_count": 21,
      "metadata": {
        "colab": {
          "base_uri": "https://localhost:8080/"
        },
        "id": "1if6l6JWOE0v",
        "outputId": "05e79c06-64de-46f1-b824-6798834d0d32"
      },
      "outputs": [
        {
          "output_type": "stream",
          "name": "stdout",
          "text": [
            "FizzBuzz\n"
          ]
        }
      ],
      "source": [
        "#ランダムな正の整数をverが出力できるようにする\n",
        "import random\n",
        "var = random.randint(1, 100)\n",
        "\n",
        "#if文で条件分岐するコードを生成\n",
        "if var % 3 == 0 and var % 5 == 0:\n",
        "  print(\"FizzBuzz\") #変数varが、3の倍数と5の倍数の両方に該当する場合は「FizzBuzz」を出力\n",
        "elif var % 3 == 0:\n",
        "  print(\"Fizz\") #変数varが、3の倍数の場合は「Fizz」を出力\n",
        "elif var % 5 == 0:\n",
        "  print(\"Buzz\") #変数varが、5の倍数の場合は「Buzz」を出力\n",
        "else:\n",
        "  print(var) #上記のどの場合にも該当しない場合は、変数varの値を出力"
      ]
    }
  ]
}