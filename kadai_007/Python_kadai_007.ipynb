{
  "nbformat": 4,
  "nbformat_minor": 0,
  "metadata": {
    "colab": {
      "provenance": []
    },
    "kernelspec": {
      "name": "python3",
      "display_name": "Python 3"
    },
    "language_info": {
      "name": "python"
    }
  },
  "cells": [
    {
      "cell_type": "code",
      "execution_count": null,
      "metadata": {
        "colab": {
          "base_uri": "https://localhost:8080/"
        },
        "id": "EnjuF0do1nFO",
        "outputId": "38f787d2-e218-4f0f-c496-9d5408a8b263"
      },
      "outputs": [
        {
          "output_type": "stream",
          "name": "stdout",
          "text": [
            "['月曜日は晴れです', '火曜日は雨です', '水曜日は晴れです', '木曜日は晴れです', '金曜日は曇りです', '土曜日は曇りのち雨です', '日曜日は雷雨です']\n",
            "日曜日は雷雨です\n",
            "{'mon': '晴れ', 'tue': '雨', 'wed': '晴れ', 'thu': '晴れ', 'fri': '曇り', 'sat': '曇りのち雨', 'sun': '雷雨'}\n",
            "雷雨\n"
          ]
        }
      ],
      "source": [
        "#「array」という名前のリストを作成\n",
        "array = [\"月曜日は晴れです\", \"火曜日は雨です\", \"水曜日は晴れです\", \"木曜日は晴れです\", \"金曜日は曇りです\", \"土曜日は曇りのち雨です\", \"日曜日は雷雨です\" ]\n",
        "\n",
        "#「dictionary」という名前のディクショナリ作成\n",
        "dictionary = {\"mon\": \"晴れ\",\"tue\": \"雨\",\"wed\": \"晴れ\", \"thu\": \"晴れ\", \"fri\": \"曇り\", \"sat\":\t\"曇りのち雨\", \"sun\": \"雷雨\" }\n",
        "\n",
        "#問題なく出力されている、試しに提出日である日曜日の天気を出力\n",
        "print(array)\n",
        "print(array[6])\n",
        "print(dictionary)\n",
        "print(dictionary[\"sun\"])"
      ]
    }
  ]
}