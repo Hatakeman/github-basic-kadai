{
  "nbformat": 4,
  "nbformat_minor": 0,
  "metadata": {
    "colab": {
      "provenance": []
    },
    "kernelspec": {
      "name": "python3",
      "display_name": "Python 3"
    },
    "language_info": {
      "name": "python"
    }
  },
  "cells": [
    {
      "cell_type": "code",
      "execution_count": 2,
      "metadata": {
        "colab": {
          "base_uri": "https://localhost:8080/"
        },
        "id": "R9TffLFpstu7",
        "outputId": "29de68f9-25cd-4c58-de4a-20dc0b6a7461"
      },
      "outputs": [
        {
          "output_type": "stream",
          "name": "stdout",
          "text": [
            "水\n",
            "金\n",
            "地\n",
            "火\n",
            "木\n",
            "土\n",
            "天\n",
            "海\n",
            "冥\n",
            "水\n",
            "金\n",
            "地\n",
            "火\n",
            "木\n",
            "土\n",
            "天\n",
            "海\n",
            "冥\n"
          ]
        }
      ],
      "source": [
        "array = [\"水\",\"金\",\"地\",\"火\",\"木\",\"土\",\"天\",\"海\",\"冥\"]\n",
        "\n",
        "# for文で繰り返し処理を行う\n",
        "for planet in array:\n",
        "    print(planet)\n",
        "\n",
        "# while文で繰り返し処理を行う\n",
        "i = 0 #indwxで0から呼び出す\n",
        "while i < len(array): #len関数でarrayの数を算出\n",
        "    print(array[i]) #その時のiの惑星名を出力\n",
        "    i += 1 #i=0から出力し、出力後にiを+1していきlen関数で算出したarrayの数に達したらループが終了する"
      ]
    }
  ]
}