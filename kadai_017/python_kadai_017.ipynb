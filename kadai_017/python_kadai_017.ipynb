{
  "nbformat": 4,
  "nbformat_minor": 0,
  "metadata": {
    "colab": {
      "provenance": []
    },
    "kernelspec": {
      "name": "python3",
      "display_name": "Python 3"
    },
    "language_info": {
      "name": "python"
    }
  },
  "cells": [
    {
      "cell_type": "code",
      "execution_count": 4,
      "metadata": {
        "colab": {
          "base_uri": "https://localhost:8080/"
        },
        "id": "tw1Hc6Dy5z8g",
        "outputId": "b889e128-3e71-4f35-c90e-8dab34c65e4b"
      },
      "outputs": [
        {
          "output_type": "stream",
          "name": "stdout",
          "text": [
            "田中 侍太郎は大人です。\n",
            "佐藤 侍花子は大人ではありません。\n",
            "鈴木 侍次郎は大人です。\n"
          ]
        }
      ],
      "source": [
        "'''\n",
        "■課題\n",
        "名前(name)と年齢(age)の属性を持つHumanクラスを作成してください。\n",
        "\n",
        "Humanクラスには、以下の条件で標準出力(print)するcheck_adultメソッドを追加してください。\n",
        "\n",
        "  ageが20以上の場合に大人であること\n",
        "  そうでない場合に大人でないこと\n",
        "\n",
        "Humanクラスのインスタンスを複数生成してリストに追加し、リストの要素数分だけcheck_adultメソッドを呼び出してください。\n",
        "\n",
        "■合格基準\n",
        "本教材で学習した「リスト・ディクショナリ」「条件分岐」「繰り返し処理」「関数」「変数のスコープ」「クラス」を用いて、「課題の内容」の仕様通りのプログラムが記述されている\n",
        "'''\n",
        "\n",
        "#名前（name）と年齢（age）の属性を持つHumanクラスを作成する\n",
        "class Human:\n",
        "    def __init__(self, name, age):\n",
        "        self.name = name\n",
        "        self.age = age\n",
        "    #Humanクラスには以下の条件で標準出力（print）するcheck_adultメソッドを追加\n",
        "      #ageが20以上の場合に大人であること\n",
        "      #そうでない場合に大人でないこと\n",
        "    def check_adult(self):\n",
        "      if self.age >= 20:\n",
        "        print(f\"{self.name}は大人です。\")\n",
        "      else:\n",
        "        print(f\"{self.name}は大人ではありません。\")\n",
        "\n",
        "# Humanクラスのインスタンスを複数生成してリストに追加\n",
        "humans = [\n",
        "    Human(\"田中 侍太郎\", 35),\n",
        "    Human(\"佐藤 侍花子\", 18),\n",
        "    Human(\"鈴木 侍次郎\", 30)\n",
        "    ]\n",
        "\n",
        "#リストの要素数分だけcheck_adultメソッドを呼び出す。\n",
        "for human in humans:\n",
        "    human.check_adult()\n",
        "\n"
      ]
    }
  ]
}