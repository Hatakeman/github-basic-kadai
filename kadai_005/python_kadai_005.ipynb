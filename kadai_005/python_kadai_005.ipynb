{
  "nbformat": 4,
  "nbformat_minor": 0,
  "metadata": {
    "colab": {
      "provenance": []
    },
    "kernelspec": {
      "name": "python3",
      "display_name": "Python 3"
    },
    "language_info": {
      "name": "python"
    }
  },
  "cells": [
    {
      "cell_type": "code",
      "execution_count": 7,
      "metadata": {
        "colab": {
          "base_uri": "https://localhost:8080/"
        },
        "id": "L1LhFIgrQpRE",
        "outputId": "950287fd-178f-45aa-f9f3-182656e4aea4"
      },
      "outputs": [
        {
          "output_type": "stream",
          "name": "stdout",
          "text": [
            "75.0cm²\n"
          ]
        }
      ],
      "source": [
        "# 出力する台形の前提\n",
        "top = 10\n",
        "bottom = 20\n",
        "high = 5\n",
        "trapezoid = (top + bottom) * high / 2\n",
        "\n",
        "print(f\"{trapezoid}cm²\")"
      ]
    }
  ]
}